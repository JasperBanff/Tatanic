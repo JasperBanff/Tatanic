{
 "cells": [
  {
   "cell_type": "code",
   "execution_count": 139,
   "metadata": {
    "collapsed": false
   },
   "outputs": [
    {
     "name": "stdout",
     "output_type": "stream",
     "text": [
      "The correct rate is: 79.01615618484658%\n",
      "The correct rate is: 68.36571698500632%\n",
      "The correct rate is: 81.9369122561385%\n"
     ]
    }
   ],
   "source": [
    "import numpy as np\n",
    "from numpy import *\n",
    "from pandas import Series, DataFrame\n",
    "import pandas as pd\n",
    "from sklearn.linear_model import LogisticRegression\n",
    "from sklearn.ensemble import RandomForestClassifier\n",
    "from sklearn import svm\n",
    "from sklearn import cross_validation\n",
    "\n",
    "\n",
    "# simple preprocessing, fill na with average, and omit some attributes\n",
    "\n",
    "def preprocessing(file_name):\n",
    "    data = pd.read_csv(file_name)\n",
    "    \n",
    "    data['Age'].fillna(data['Age'].mean(),inplace=True)\n",
    "    data['Fare'].fillna(data['Fare'].mean(),inplace=True)\n",
    "    data['Embarked'].fillna('S',inplace=True)\n",
    "    data.Sex.replace(['male', 'female'], [1, 2], inplace=True)\n",
    "    data.Embarked.replace(['S', 'C','Q'], [1, 2, 3], inplace=True)\n",
    "    \n",
    "    attList = ['Pclass','Sex','Age','SibSp','Parch','Fare','Embarked']\n",
    "    X = data[attList]\n",
    "    Y = data['Survived']\n",
    "    \n",
    "    return X,Y\n",
    "\n",
    "\n",
    "\n",
    "    \n",
    "X,Y = preprocessing('data/train.csv')\n",
    "\n",
    "# try different classifiers, ensemble model is the best of three\n",
    "\n",
    "clf = LogisticRegression()\n",
    "scores = cross_validation.cross_val_score(clf,X,Y,cv= 5)\n",
    "print('The correct rate is: {}%'.format(100*scores.mean()))\n",
    "\n",
    "\n",
    "clf = svm.SVC()\n",
    "scores = cross_validation.cross_val_score(clf,X,Y,cv= 5)\n",
    "print('The correct rate is: {}%'.format(100*scores.mean()))\n",
    "\n",
    "clf = RandomForestClassifier(n_estimators = 20,min_samples_leaf = 8,min_samples_split = 6)\n",
    "scores = cross_validation.cross_val_score(clf,X,Y,cv= 5)\n",
    "print('The correct rate is: {}%'.format(100*scores.mean()))\n",
    "\n",
    "\n",
    "    \n",
    "\n"
   ]
  },
  {
   "cell_type": "code",
   "execution_count": 138,
   "metadata": {
    "collapsed": false
   },
   "outputs": [
    {
     "name": "stdout",
     "output_type": "stream",
     "text": [
      "The correct rate is: 71.8294051627385%\n"
     ]
    }
   ],
   "source": [
    "# implement logistic regression \n",
    "X,Y = preprocessing('data/train.csv')\n",
    "\n",
    "def sigmod(X):\n",
    "    return 1.0/(1+exp(-X))\n",
    "\n",
    "\n",
    "def gradDescent(X, Y, alpha = 0.001, iterNum = 10000):\n",
    "    X = mat(X)\n",
    "    Y = mat(Y).transpose()\n",
    "    m,n = shape(X)\n",
    "    weights = ones((n,1))\n",
    "    \n",
    "    \n",
    "   \n",
    "   \n",
    "    while iterNum:\n",
    "        iterNum -= 1\n",
    "        hypothesis = sigmoid(X*weights)\n",
    "        error = hypothesis - Y\n",
    "        weights = weights - alpha * X.transpose() * error\n",
    "\n",
    "    \n",
    "    return weights\n",
    "\n",
    "def predict(weights, X, Y):\n",
    "    X = mat(X)\n",
    "    Y = mat(Y).transpose()\n",
    "    hypothesis = X*weights\n",
    "    \n",
    "    predict = []\n",
    "    for h in hypothesis:\n",
    "        v = 1 if h >0.5 else 0\n",
    "        predict.append(v)\n",
    "    predict = mat(predict).transpose()\n",
    "    \n",
    "    count = 0\n",
    "    for i in range(len(Y)):\n",
    "        if Y[i] == predict[i]:\n",
    "            count +=1\n",
    "            \n",
    "    print('The correct rate is: {}%'.format(100*count/len(Y)))\n",
    "\n",
    "    \n",
    "weights = gradDescent(X, Y)\n",
    "predict(weights,X,Y)\n"
   ]
  },
  {
   "cell_type": "code",
   "execution_count": null,
   "metadata": {
    "collapsed": false
   },
   "outputs": [],
   "source": [
    "\n"
   ]
  },
  {
   "cell_type": "code",
   "execution_count": null,
   "metadata": {
    "collapsed": true
   },
   "outputs": [],
   "source": []
  }
 ],
 "metadata": {
  "anaconda-cloud": {},
  "kernelspec": {
   "display_name": "Python [Root]",
   "language": "python",
   "name": "Python [Root]"
  },
  "language_info": {
   "codemirror_mode": {
    "name": "ipython",
    "version": 3
   },
   "file_extension": ".py",
   "mimetype": "text/x-python",
   "name": "python",
   "nbconvert_exporter": "python",
   "pygments_lexer": "ipython3",
   "version": "3.5.2"
  }
 },
 "nbformat": 4,
 "nbformat_minor": 2
}
